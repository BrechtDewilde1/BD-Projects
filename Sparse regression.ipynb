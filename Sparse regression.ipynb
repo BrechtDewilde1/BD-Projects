{
 "cells": [
  {
   "cell_type": "markdown",
   "metadata": {},
   "source": [
    "**GOAL**: predict the number of violent crimes"
   ]
  },
  {
   "cell_type": "markdown",
   "metadata": {},
   "source": [
    "**DATA**: the UCI communities dataset, contains demographic information about counties in the US"
   ]
  },
  {
   "cell_type": "markdown",
   "metadata": {},
   "source": [
    "**Import modules**"
   ]
  },
  {
   "cell_type": "code",
   "execution_count": 37,
   "metadata": {},
   "outputs": [],
   "source": [
    "import pandas as pd\n",
    "from sklearn.model_selection import KFold\n",
    "from sklearn.linear_model import LinearRegression\n",
    "from sklearn.metrics import mean_squared_error\n",
    "from statistics import mean\n",
    "from sklearn.linear_model import LassoCV, RidgeCV, ElasticNetCV"
   ]
  },
  {
   "cell_type": "markdown",
   "metadata": {},
   "source": [
    "**Import datasets**"
   ]
  },
  {
   "cell_type": "code",
   "execution_count": 2,
   "metadata": {},
   "outputs": [],
   "source": [
    "data = pd.read_csv(r\"C:\\Users\\BrechtDewilde\\Documents\\UGENT -  statistical data analysis\\STATISTICAL DATA ANALYSIS\\SEM 2\\Big data science\\datasets\\communities.psv\", sep = \"|\")"
   ]
  },
  {
   "cell_type": "code",
   "execution_count": 3,
   "metadata": {},
   "outputs": [
    {
     "data": {
      "text/html": [
       "<div>\n",
       "<style scoped>\n",
       "    .dataframe tbody tr th:only-of-type {\n",
       "        vertical-align: middle;\n",
       "    }\n",
       "\n",
       "    .dataframe tbody tr th {\n",
       "        vertical-align: top;\n",
       "    }\n",
       "\n",
       "    .dataframe thead th {\n",
       "        text-align: right;\n",
       "    }\n",
       "</style>\n",
       "<table border=\"1\" class=\"dataframe\">\n",
       "  <thead>\n",
       "    <tr style=\"text-align: right;\">\n",
       "      <th></th>\n",
       "      <th>A0</th>\n",
       "      <th>A1</th>\n",
       "      <th>A2</th>\n",
       "      <th>A3</th>\n",
       "      <th>A4</th>\n",
       "      <th>A5</th>\n",
       "      <th>A6</th>\n",
       "      <th>A7</th>\n",
       "      <th>A8</th>\n",
       "      <th>A9</th>\n",
       "      <th>...</th>\n",
       "      <th>A113</th>\n",
       "      <th>A114</th>\n",
       "      <th>A115</th>\n",
       "      <th>A116</th>\n",
       "      <th>A117</th>\n",
       "      <th>A118</th>\n",
       "      <th>A119</th>\n",
       "      <th>A120</th>\n",
       "      <th>A121</th>\n",
       "      <th>A122</th>\n",
       "    </tr>\n",
       "  </thead>\n",
       "  <tbody>\n",
       "    <tr>\n",
       "      <th>0</th>\n",
       "      <td>0.19</td>\n",
       "      <td>0.33</td>\n",
       "      <td>0.02</td>\n",
       "      <td>0.90</td>\n",
       "      <td>0.12</td>\n",
       "      <td>0.17</td>\n",
       "      <td>0.34</td>\n",
       "      <td>0.47</td>\n",
       "      <td>0.29</td>\n",
       "      <td>0.32</td>\n",
       "      <td>...</td>\n",
       "      <td>0.12</td>\n",
       "      <td>0.26</td>\n",
       "      <td>0.20</td>\n",
       "      <td>0.06</td>\n",
       "      <td>0.04</td>\n",
       "      <td>0.9</td>\n",
       "      <td>0.5</td>\n",
       "      <td>0.32</td>\n",
       "      <td>0.14</td>\n",
       "      <td>0.20</td>\n",
       "    </tr>\n",
       "    <tr>\n",
       "      <th>1</th>\n",
       "      <td>0.00</td>\n",
       "      <td>0.16</td>\n",
       "      <td>0.12</td>\n",
       "      <td>0.74</td>\n",
       "      <td>0.45</td>\n",
       "      <td>0.07</td>\n",
       "      <td>0.26</td>\n",
       "      <td>0.59</td>\n",
       "      <td>0.35</td>\n",
       "      <td>0.27</td>\n",
       "      <td>...</td>\n",
       "      <td>0.02</td>\n",
       "      <td>0.12</td>\n",
       "      <td>0.45</td>\n",
       "      <td>?</td>\n",
       "      <td>?</td>\n",
       "      <td>?</td>\n",
       "      <td>?</td>\n",
       "      <td>0.00</td>\n",
       "      <td>?</td>\n",
       "      <td>0.67</td>\n",
       "    </tr>\n",
       "    <tr>\n",
       "      <th>2</th>\n",
       "      <td>0.00</td>\n",
       "      <td>0.42</td>\n",
       "      <td>0.49</td>\n",
       "      <td>0.56</td>\n",
       "      <td>0.17</td>\n",
       "      <td>0.04</td>\n",
       "      <td>0.39</td>\n",
       "      <td>0.47</td>\n",
       "      <td>0.28</td>\n",
       "      <td>0.32</td>\n",
       "      <td>...</td>\n",
       "      <td>0.01</td>\n",
       "      <td>0.21</td>\n",
       "      <td>0.02</td>\n",
       "      <td>?</td>\n",
       "      <td>?</td>\n",
       "      <td>?</td>\n",
       "      <td>?</td>\n",
       "      <td>0.00</td>\n",
       "      <td>?</td>\n",
       "      <td>0.43</td>\n",
       "    </tr>\n",
       "    <tr>\n",
       "      <th>3</th>\n",
       "      <td>0.04</td>\n",
       "      <td>0.77</td>\n",
       "      <td>1.00</td>\n",
       "      <td>0.08</td>\n",
       "      <td>0.12</td>\n",
       "      <td>0.10</td>\n",
       "      <td>0.51</td>\n",
       "      <td>0.50</td>\n",
       "      <td>0.34</td>\n",
       "      <td>0.21</td>\n",
       "      <td>...</td>\n",
       "      <td>0.02</td>\n",
       "      <td>0.39</td>\n",
       "      <td>0.28</td>\n",
       "      <td>?</td>\n",
       "      <td>?</td>\n",
       "      <td>?</td>\n",
       "      <td>?</td>\n",
       "      <td>0.00</td>\n",
       "      <td>?</td>\n",
       "      <td>0.12</td>\n",
       "    </tr>\n",
       "    <tr>\n",
       "      <th>4</th>\n",
       "      <td>0.01</td>\n",
       "      <td>0.55</td>\n",
       "      <td>0.02</td>\n",
       "      <td>0.95</td>\n",
       "      <td>0.09</td>\n",
       "      <td>0.05</td>\n",
       "      <td>0.38</td>\n",
       "      <td>0.38</td>\n",
       "      <td>0.23</td>\n",
       "      <td>0.36</td>\n",
       "      <td>...</td>\n",
       "      <td>0.04</td>\n",
       "      <td>0.09</td>\n",
       "      <td>0.02</td>\n",
       "      <td>?</td>\n",
       "      <td>?</td>\n",
       "      <td>?</td>\n",
       "      <td>?</td>\n",
       "      <td>0.00</td>\n",
       "      <td>?</td>\n",
       "      <td>0.03</td>\n",
       "    </tr>\n",
       "  </tbody>\n",
       "</table>\n",
       "<p>5 rows × 123 columns</p>\n",
       "</div>"
      ],
      "text/plain": [
       "     A0    A1    A2    A3    A4    A5    A6    A7    A8    A9  ...  A113  \\\n",
       "0  0.19  0.33  0.02  0.90  0.12  0.17  0.34  0.47  0.29  0.32  ...  0.12   \n",
       "1  0.00  0.16  0.12  0.74  0.45  0.07  0.26  0.59  0.35  0.27  ...  0.02   \n",
       "2  0.00  0.42  0.49  0.56  0.17  0.04  0.39  0.47  0.28  0.32  ...  0.01   \n",
       "3  0.04  0.77  1.00  0.08  0.12  0.10  0.51  0.50  0.34  0.21  ...  0.02   \n",
       "4  0.01  0.55  0.02  0.95  0.09  0.05  0.38  0.38  0.23  0.36  ...  0.04   \n",
       "\n",
       "   A114  A115  A116  A117  A118  A119  A120  A121  A122  \n",
       "0  0.26  0.20  0.06  0.04   0.9   0.5  0.32  0.14  0.20  \n",
       "1  0.12  0.45     ?     ?     ?     ?  0.00     ?  0.67  \n",
       "2  0.21  0.02     ?     ?     ?     ?  0.00     ?  0.43  \n",
       "3  0.39  0.28     ?     ?     ?     ?  0.00     ?  0.12  \n",
       "4  0.09  0.02     ?     ?     ?     ?  0.00     ?  0.03  \n",
       "\n",
       "[5 rows x 123 columns]"
      ]
     },
     "execution_count": 3,
     "metadata": {},
     "output_type": "execute_result"
    }
   ],
   "source": [
    "# The features are named A0 - A112 (more information about the features can be found on the UCI site)\n",
    "data.head()"
   ]
  },
  {
   "cell_type": "markdown",
   "metadata": {},
   "source": [
    "**Data Cleaning**"
   ]
  },
  {
   "cell_type": "markdown",
   "metadata": {},
   "source": [
    "* missing data indicated as a question mark\n",
    "* split the data into x and y whereby the dependent attribute is the last (A122)\n",
    "* missing values are replaced by column means "
   ]
  },
  {
   "cell_type": "code",
   "execution_count": 4,
   "metadata": {},
   "outputs": [],
   "source": [
    "data = pd.read_csv(r\"C:\\Users\\BrechtDewilde\\Documents\\UGENT -  statistical data analysis\\STATISTICAL DATA ANALYSIS\\SEM 2\\Big data science\\datasets\\communities.psv\", sep = \"|\", na_values = \"?\")\n",
    "data = data.fillna(data.mean())"
   ]
  },
  {
   "cell_type": "code",
   "execution_count": 5,
   "metadata": {},
   "outputs": [],
   "source": [
    "x = data.loc[:,data.columns != \"A122\"]\n",
    "y = data.loc[:,data.columns[-1]]"
   ]
  },
  {
   "cell_type": "markdown",
   "metadata": {},
   "source": [
    "**Linear Regression with cross-validation**"
   ]
  },
  {
   "cell_type": "code",
   "execution_count": 6,
   "metadata": {},
   "outputs": [],
   "source": [
    "# Create the model \n",
    "lr = LinearRegression(normalize = True)\n",
    "\n",
    "# Create the fold class\n",
    "kf = KFold(n_splits = 5, shuffle = True, random_state = 0)\n",
    "\n",
    "# list containing the fold metrics\n",
    "cv_scores = []\n",
    "\n",
    "# fit a model for each fold\n",
    "for train_index, test_index in kf.split(x):\n",
    "    x_train, x_test = x.iloc[train_index], x.iloc[test_index]\n",
    "    y_train, y_test = y.iloc[train_index], y.iloc[test_index]\n",
    "    lr.fit(x_train, y_train)\n",
    "    y_pred = lr.predict(x_test)\n",
    "    cv_scores.append(mean_squared_error(y_test,y_pred))"
   ]
  },
  {
   "cell_type": "code",
   "execution_count": 7,
   "metadata": {},
   "outputs": [
    {
     "data": {
      "text/plain": [
       "0.093"
      ]
     },
     "execution_count": 7,
     "metadata": {},
     "output_type": "execute_result"
    }
   ],
   "source": [
    "round(mean(cv_scores), 3)"
   ]
  },
  {
   "cell_type": "markdown",
   "metadata": {},
   "source": [
    "**Feature Selection**\n",
    "There exist several strategies for feature selection."
   ]
  },
  {
   "cell_type": "markdown",
   "metadata": {},
   "source": [
    "The RFECV class from scikit learn automates backward feature selection."
   ]
  },
  {
   "cell_type": "code",
   "execution_count": 8,
   "metadata": {},
   "outputs": [],
   "source": [
    "from sklearn.feature_selection import RFECV\n",
    "estimator = LinearRegression(normalize=True)\n",
    "selector = RFECV(estimator, 1, cv = 5)\n",
    "selector = selector.fit(x,y)"
   ]
  },
  {
   "cell_type": "code",
   "execution_count": 9,
   "metadata": {},
   "outputs": [
    {
     "name": "stdout",
     "output_type": "stream",
     "text": [
      "The best amount of features to select: 14\n"
     ]
    }
   ],
   "source": [
    "print(\"The best amount of features to select: {}\".format(selector.n_features_))"
   ]
  },
  {
   "cell_type": "code",
   "execution_count": 10,
   "metadata": {},
   "outputs": [
    {
     "name": "stdout",
     "output_type": "stream",
     "text": [
      "The best feature subset:\n"
     ]
    },
    {
     "data": {
      "text/plain": [
       "Index(['A0', 'A10', 'A20', 'A21', 'A38', 'A40', 'A41', 'A44', 'A64', 'A71',\n",
       "       'A79', 'A80', 'A97', 'A103'],\n",
       "      dtype='object')"
      ]
     },
     "execution_count": 10,
     "metadata": {},
     "output_type": "execute_result"
    }
   ],
   "source": [
    "print(\"The best feature subset:\")\n",
    "x.columns[selector.support_]"
   ]
  },
  {
   "cell_type": "code",
   "execution_count": 11,
   "metadata": {},
   "outputs": [
    {
     "name": "stdout",
     "output_type": "stream",
     "text": [
      "The ranking of the features is as follows\n"
     ]
    },
    {
     "data": {
      "text/plain": [
       "Index(['A1', 'A99', 'A8', 'A84', 'A86', 'A45', 'A50', 'A30', 'A61', 'A82',\n",
       "       'A1', 'A62', 'A28', 'A24', 'A59'],\n",
       "      dtype='object')"
      ]
     },
     "execution_count": 11,
     "metadata": {},
     "output_type": "execute_result"
    }
   ],
   "source": [
    "print(\"The ranking of the features is as follows\")\n",
    "x.columns[selector.ranking_][:15]"
   ]
  },
  {
   "cell_type": "markdown",
   "metadata": {},
   "source": [
    "**Linear regression with feature selection**"
   ]
  },
  {
   "cell_type": "code",
   "execution_count": 12,
   "metadata": {},
   "outputs": [],
   "source": [
    "# Create the model \n",
    "lr = LinearRegression(normalize = True)\n",
    "\n",
    "# Create the fold class\n",
    "kf = KFold(n_splits = 5, shuffle = True, random_state = 0)\n",
    "\n",
    "# list containing the fold metrics\n",
    "cv_scores = []\n",
    "\n",
    "# select feature subset\n",
    "x_fs = x.loc[:,selector.support_]\n",
    "\n",
    "# fit a model for each fold\n",
    "for train_index, test_index in kf.split(x_fs):\n",
    "    x_train, x_test = x_fs.iloc[train_index], x_fs.iloc[test_index]\n",
    "    y_train, y_test = y.iloc[train_index], y.iloc[test_index]\n",
    "    lr.fit(x_train, y_train)\n",
    "    y_pred = lr.predict(x_test)\n",
    "    cv_scores.append(mean_squared_error(y_test,y_pred))"
   ]
  },
  {
   "cell_type": "code",
   "execution_count": 13,
   "metadata": {},
   "outputs": [
    {
     "data": {
      "text/plain": [
       "0.053"
      ]
     },
     "execution_count": 13,
     "metadata": {},
     "output_type": "execute_result"
    }
   ],
   "source": [
    "round(mean(cv_scores), 3)"
   ]
  },
  {
   "cell_type": "markdown",
   "metadata": {},
   "source": [
    "**Comparison of performance after feature selection**"
   ]
  },
  {
   "cell_type": "markdown",
   "metadata": {},
   "source": [
    "The performance is clearly better after feature selection. <br/> In case all features are used, then a MSE of 0.09 is obtained. <br/>With feature selection we have a MSE of 0.053."
   ]
  },
  {
   "cell_type": "markdown",
   "metadata": {},
   "source": [
    "### lasso, Ridge and elastic net regression "
   ]
  },
  {
   "cell_type": "markdown",
   "metadata": {},
   "source": [
    "Another way to deal with a large number of features is to penalise overfitting using any of these type of regression techniques. However, these techniques use a hyperparameter. "
   ]
  },
  {
   "cell_type": "code",
   "execution_count": 14,
   "metadata": {},
   "outputs": [],
   "source": [
    "y = y.to_frame()\n",
    "# obtain a train and test set, each method will be compared on the same set\n",
    "from sklearn.model_selection import train_test_split\n",
    "x_train, x_test, y_train, y_test = train_test_split(x, y, random_state = 0, test_size = 0.2)"
   ]
  },
  {
   "cell_type": "markdown",
   "metadata": {},
   "source": [
    "***Lasso***"
   ]
  },
  {
   "cell_type": "code",
   "execution_count": 49,
   "metadata": {},
   "outputs": [
    {
     "name": "stderr",
     "output_type": "stream",
     "text": [
      "C:\\Program Files (x86)\\Anaconda3\\lib\\site-packages\\sklearn\\linear_model\\coordinate_descent.py:1100: DataConversionWarning: A column-vector y was passed when a 1d array was expected. Please change the shape of y to (n_samples, ), for example using ravel().\n",
      "  y = column_or_1d(y, warn=True)\n"
     ]
    }
   ],
   "source": [
    "clf = LassoCV(cv = 5, random_state = 0).fit(x_train,y_train)\n",
    "y_pred = clf.predict(x_test)"
   ]
  },
  {
   "cell_type": "code",
   "execution_count": 50,
   "metadata": {},
   "outputs": [],
   "source": [
    "lasso_mse = round(mean_squared_error(y_test, y_pred),2)"
   ]
  },
  {
   "cell_type": "code",
   "execution_count": 51,
   "metadata": {},
   "outputs": [],
   "source": [
    "lasso_len = len(x_train.columns[abs(clf.coef_) == 0])\n",
    "lasso_params = x_train.columns[abs(clf.coef_) == 0]"
   ]
  },
  {
   "cell_type": "markdown",
   "metadata": {},
   "source": [
    "***Ridge***"
   ]
  },
  {
   "cell_type": "code",
   "execution_count": 52,
   "metadata": {},
   "outputs": [],
   "source": [
    "clf = RidgeCV(cv = 5).fit(x_train,y_train)\n",
    "y_pred = clf.predict(x_test)"
   ]
  },
  {
   "cell_type": "code",
   "execution_count": 53,
   "metadata": {},
   "outputs": [],
   "source": [
    "ridge_mse = round(mean_squared_error(y_test, y_pred),2)"
   ]
  },
  {
   "cell_type": "markdown",
   "metadata": {},
   "source": [
    "**Elastic Net**"
   ]
  },
  {
   "cell_type": "code",
   "execution_count": 54,
   "metadata": {},
   "outputs": [
    {
     "name": "stderr",
     "output_type": "stream",
     "text": [
      "C:\\Program Files (x86)\\Anaconda3\\lib\\site-packages\\sklearn\\linear_model\\coordinate_descent.py:1100: DataConversionWarning: A column-vector y was passed when a 1d array was expected. Please change the shape of y to (n_samples, ), for example using ravel().\n",
      "  y = column_or_1d(y, warn=True)\n"
     ]
    }
   ],
   "source": [
    "regr = ElasticNetCV(cv=5, random_state=0).fit(x_train,y_train)\n",
    "y_pred = regr.predict(x_test)"
   ]
  },
  {
   "cell_type": "code",
   "execution_count": 55,
   "metadata": {},
   "outputs": [],
   "source": [
    "en = round(mean_squared_error(y_test, y_pred),2)"
   ]
  },
  {
   "cell_type": "code",
   "execution_count": 56,
   "metadata": {},
   "outputs": [],
   "source": [
    "en_params = x_train.columns[abs(regr.coef_) == 0]\n",
    "en_len = len(x_train.columns[abs(regr.coef_) == 0])"
   ]
  },
  {
   "cell_type": "markdown",
   "metadata": {},
   "source": [
    "### Comparison of the different techniques"
   ]
  },
  {
   "cell_type": "code",
   "execution_count": 59,
   "metadata": {},
   "outputs": [
    {
     "name": "stdout",
     "output_type": "stream",
     "text": [
      "Ridge regression has a MSE: 0.02\n",
      "Lasso has a MSE: 0.02, and a total number of selected features of 78\n",
      "Elastic net has a MSE: 0.02 and a total number of selected features of 76\n"
     ]
    }
   ],
   "source": [
    "print(\"Ridge regression has a MSE: {}\".format(ridge_mse))\n",
    "print(\"Lasso has a MSE: {}, and a total number of selected features of {}\".format(lasso_mse, lasso_len))\n",
    "print(\"Elastic net has a MSE: {} and a total number of selected features of {}\".format(en, en_len))"
   ]
  },
  {
   "cell_type": "code",
   "execution_count": 60,
   "metadata": {},
   "outputs": [
    {
     "name": "stdout",
     "output_type": "stream",
     "text": [
      "The features that lasso has selected are: \n",
      "The features that elastic net has selected are:\n"
     ]
    },
    {
     "data": {
      "text/plain": [
       "Index(['A0', 'A1', 'A4', 'A6', 'A8', 'A10', 'A12', 'A13', 'A14', 'A19', 'A20',\n",
       "       'A21', 'A26', 'A27', 'A29', 'A30', 'A31', 'A32', 'A33', 'A35', 'A37',\n",
       "       'A39', 'A40', 'A41', 'A42', 'A47', 'A49', 'A51', 'A52', 'A53', 'A54',\n",
       "       'A55', 'A56', 'A57', 'A59', 'A60', 'A61', 'A62', 'A63', 'A64', 'A65',\n",
       "       'A66', 'A67', 'A70', 'A73', 'A77', 'A79', 'A80', 'A81', 'A83', 'A84',\n",
       "       'A87', 'A89', 'A91', 'A92', 'A93', 'A95', 'A96', 'A97', 'A98', 'A99',\n",
       "       'A100', 'A102', 'A103', 'A106', 'A107', 'A109', 'A110', 'A111', 'A112',\n",
       "       'A113', 'A114', 'A115', 'A116', 'A117', 'A121'],\n",
       "      dtype='object')"
      ]
     },
     "execution_count": 60,
     "metadata": {},
     "output_type": "execute_result"
    }
   ],
   "source": [
    "print(\"The features that lasso has selected are: \")\n",
    "lasso_params"
   ]
  },
  {
   "cell_type": "code",
   "execution_count": 61,
   "metadata": {},
   "outputs": [
    {
     "name": "stdout",
     "output_type": "stream",
     "text": [
      "The features that elastic net has selected are:\n"
     ]
    },
    {
     "data": {
      "text/plain": [
       "Index(['A0', 'A1', 'A4', 'A6', 'A8', 'A10', 'A12', 'A13', 'A14', 'A19', 'A20',\n",
       "       'A21', 'A26', 'A27', 'A29', 'A30', 'A31', 'A32', 'A33', 'A35', 'A37',\n",
       "       'A39', 'A40', 'A41', 'A42', 'A47', 'A49', 'A51', 'A52', 'A53', 'A54',\n",
       "       'A55', 'A56', 'A57', 'A59', 'A60', 'A61', 'A62', 'A63', 'A64', 'A65',\n",
       "       'A66', 'A67', 'A70', 'A73', 'A77', 'A79', 'A80', 'A81', 'A83', 'A84',\n",
       "       'A87', 'A89', 'A91', 'A92', 'A93', 'A95', 'A96', 'A97', 'A98', 'A99',\n",
       "       'A100', 'A102', 'A103', 'A106', 'A107', 'A109', 'A110', 'A111', 'A112',\n",
       "       'A113', 'A114', 'A115', 'A116', 'A117', 'A121'],\n",
       "      dtype='object')"
      ]
     },
     "execution_count": 61,
     "metadata": {},
     "output_type": "execute_result"
    }
   ],
   "source": [
    "print(\"The features that elastic net has selected are:\")\n",
    "en_params"
   ]
  },
  {
   "cell_type": "code",
   "execution_count": 65,
   "metadata": {},
   "outputs": [
    {
     "data": {
      "text/plain": [
       "['A0',\n",
       " 'A1',\n",
       " 'A4',\n",
       " 'A6',\n",
       " 'A8',\n",
       " 'A10',\n",
       " 'A12',\n",
       " 'A13',\n",
       " 'A14',\n",
       " 'A19',\n",
       " 'A20',\n",
       " 'A21',\n",
       " 'A26',\n",
       " 'A27',\n",
       " 'A29',\n",
       " 'A30',\n",
       " 'A31',\n",
       " 'A32',\n",
       " 'A33',\n",
       " 'A35',\n",
       " 'A37',\n",
       " 'A39',\n",
       " 'A40',\n",
       " 'A41',\n",
       " 'A42',\n",
       " 'A47',\n",
       " 'A49',\n",
       " 'A51',\n",
       " 'A52',\n",
       " 'A53',\n",
       " 'A54',\n",
       " 'A55',\n",
       " 'A56',\n",
       " 'A57',\n",
       " 'A59',\n",
       " 'A60',\n",
       " 'A61',\n",
       " 'A62',\n",
       " 'A63',\n",
       " 'A64',\n",
       " 'A65',\n",
       " 'A66',\n",
       " 'A67',\n",
       " 'A70',\n",
       " 'A73',\n",
       " 'A77',\n",
       " 'A79',\n",
       " 'A80',\n",
       " 'A81',\n",
       " 'A83',\n",
       " 'A84',\n",
       " 'A87',\n",
       " 'A89',\n",
       " 'A91',\n",
       " 'A92',\n",
       " 'A93',\n",
       " 'A95',\n",
       " 'A96',\n",
       " 'A97',\n",
       " 'A98',\n",
       " 'A99',\n",
       " 'A100',\n",
       " 'A102',\n",
       " 'A103',\n",
       " 'A106',\n",
       " 'A107',\n",
       " 'A109',\n",
       " 'A110',\n",
       " 'A111',\n",
       " 'A112',\n",
       " 'A113',\n",
       " 'A114',\n",
       " 'A115',\n",
       " 'A116',\n",
       " 'A117',\n",
       " 'A121']"
      ]
     },
     "execution_count": 65,
     "metadata": {},
     "output_type": "execute_result"
    }
   ],
   "source": [
    "lst3 = [feature for feature in en_params if feature in lasso_params] \n",
    "lst3"
   ]
  }
 ],
 "metadata": {
  "kernelspec": {
   "display_name": "Python 3",
   "language": "python",
   "name": "python3"
  },
  "language_info": {
   "codemirror_mode": {
    "name": "ipython",
    "version": 3
   },
   "file_extension": ".py",
   "mimetype": "text/x-python",
   "name": "python",
   "nbconvert_exporter": "python",
   "pygments_lexer": "ipython3",
   "version": "3.7.3"
  }
 },
 "nbformat": 4,
 "nbformat_minor": 2
}
